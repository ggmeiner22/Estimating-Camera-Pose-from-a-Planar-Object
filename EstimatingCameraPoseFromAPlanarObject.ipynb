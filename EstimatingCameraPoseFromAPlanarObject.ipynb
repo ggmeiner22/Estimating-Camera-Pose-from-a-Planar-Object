{
  "nbformat": 4,
  "nbformat_minor": 0,
  "metadata": {
    "colab": {
      "provenance": [],
      "authorship_tag": "ABX9TyMD8X+77b454q3t4gQ+oU1j",
      "include_colab_link": true
    },
    "kernelspec": {
      "name": "python3",
      "display_name": "Python 3"
    },
    "language_info": {
      "name": "python"
    }
  },
  "cells": [
    {
      "cell_type": "markdown",
      "metadata": {
        "id": "view-in-github",
        "colab_type": "text"
      },
      "source": [
        "<a href=\"https://colab.research.google.com/github/ggmeiner22/Estimating-Camera-Pose-from-a-Planar-Object/blob/main/EstimatingCameraPoseFromAPlanarObject.ipynb\" target=\"_parent\"><img src=\"https://colab.research.google.com/assets/colab-badge.svg\" alt=\"Open In Colab\"/></a>"
      ]
    },
    {
      "cell_type": "markdown",
      "source": [
        "## Goal\n",
        "\n",
        "Given a calibrated camera (i.e., known intrinsics **K**) and a single image of a planar object, estimate the camera **pose** (i.e., extrinsics **R**, **t**).\n",
        "\n",
        "I will:\n",
        "\n",
        "1. build a Gradio UI to click 2D features and manage point order,\n",
        "2. estimate pose **from a homography** (explicit derivation), and\n",
        "3. estimate pose using **OpenCV** functions,\n",
        "4. compare the two (short notes only)."
      ],
      "metadata": {
        "id": "EpbqkAzHIM5s"
      }
    },
    {
      "cell_type": "markdown",
      "source": [
        "Installs dependencies"
      ],
      "metadata": {
        "id": "CWn5jpoaI94w"
      }
    },
    {
      "cell_type": "code",
      "execution_count": 2,
      "metadata": {
        "id": "B2u8_q2_IJ7l"
      },
      "outputs": [],
      "source": [
        "%pip -q install opencv-python numpy gradio matplotlib"
      ]
    },
    {
      "cell_type": "markdown",
      "source": [
        "Imports"
      ],
      "metadata": {
        "id": "SqNF6-vkLfzN"
      }
    },
    {
      "cell_type": "code",
      "source": [
        "import json, io, math\n",
        "import numpy as np\n",
        "import cv2 as cv\n",
        "import gradio as gr\n",
        "import matplotlib.pyplot as plt\n",
        "\n",
        "from matplotlib.figure import Figure"
      ],
      "metadata": {
        "id": "yyqTxE69LgHW"
      },
      "execution_count": 3,
      "outputs": []
    },
    {
      "cell_type": "markdown",
      "source": [
        "Load inrinsics from JSOn"
      ],
      "metadata": {
        "id": "Dlz-Vz3EPmIb"
      }
    },
    {
      "cell_type": "code",
      "source": [
        "def load_intrinsics_from_json(json_bytes):\n",
        "    d = json.loads(json_bytes.decode(\"utf-8\"))\n",
        "    K = np.array(d[\"K\"], dtype=np.float64)\n",
        "    dist = np.array(d.get(\"distCoeffs\", [0,0,0,0,0]), dtype=np.float64).reshape(-1,1)\n",
        "    return K, dist"
      ],
      "metadata": {
        "id": "Di8gwMiiPmcx"
      },
      "execution_count": 4,
      "outputs": []
    },
    {
      "cell_type": "markdown",
      "source": [
        "Load 2D model points"
      ],
      "metadata": {
        "id": "qOF7oR8ARsdP"
      }
    },
    {
      "cell_type": "code",
      "source": [
        "def load_model_points_json(json_bytes):\n",
        "    \"\"\"\n",
        "    Load model points from a JSON file with structure:\n",
        "    {\n",
        "      \"units\": \"meters\",\n",
        "      \"square_size_meters\": 0.02177,\n",
        "      \"rows\": 6,\n",
        "      \"cols\": 9,\n",
        "      \"ordering\": \"row-major from (0,0)\",\n",
        "      \"points\": [\n",
        "        { \"X\": 0.0, \"Y\": 0.0, \"Z\": 0.0 },\n",
        "        ...\n",
        "      ]\n",
        "    }\n",
        "    Returns: Nx3 numpy array [X,Y,Z]\n",
        "    \"\"\"\n",
        "    import json, numpy as np\n",
        "\n",
        "    # Parse JSON\n",
        "    data = json.loads(json_bytes.decode(\"utf-8\"))\n",
        "\n",
        "    # Must have \"points\" array\n",
        "    if \"points\" not in data:\n",
        "        raise ValueError(\"JSON must have a 'points' array with X,Y,Z fields.\")\n",
        "\n",
        "    pts = data[\"points\"]\n",
        "    if not all(\"X\" in p and \"Y\" in p for p in pts):\n",
        "        raise ValueError(\"Each point must have X and Y (Z optional).\")\n",
        "\n",
        "    # Extract X,Y,Z into array\n",
        "    X = [float(p[\"X\"]) for p in pts]\n",
        "    Y = [float(p[\"Y\"]) for p in pts]\n",
        "    Z = [float(p.get(\"Z\", 0.0)) for p in pts]\n",
        "\n",
        "    arr = np.column_stack([X, Y, Z]).astype(np.float64)\n",
        "\n",
        "    # Optional: sort row-major if rows/cols exist\n",
        "    if \"rows\" in data and \"cols\" in data:\n",
        "        rows, cols = int(data[\"rows\"]), int(data[\"cols\"])\n",
        "        if len(arr) == rows * cols:\n",
        "            arr = arr.reshape(rows, cols, 3).reshape(-1, 3, order=\"C\")\n",
        "\n",
        "    return arr\n"
      ],
      "metadata": {
        "id": "y5Ky93j5Rsv4"
      },
      "execution_count": 5,
      "outputs": []
    },
    {
      "cell_type": "markdown",
      "source": [
        "Pose from a homography (explicit derivation)"
      ],
      "metadata": {
        "id": "_hlEjGKPUDMN"
      }
    },
    {
      "cell_type": "code",
      "source": [
        "def dlt_homography(model2d, image2d):\n",
        "    \"\"\"DLT (no RANSAC): model2d Nx2 (plane coords, Z=0), image2d Nx2 (pixels).\"\"\"\n",
        "    N = model2d.shape[0]\n",
        "    A = []\n",
        "    for i in range(N):\n",
        "        X, Y = model2d[i]\n",
        "        x, y = image2d[i]\n",
        "        A.append([0,0,0, -X,-Y,-1,  y*X, y*Y, y])\n",
        "        A.append([X,Y,1,  0, 0, 0, -x*X,-x*Y,-x])\n",
        "    A = np.asarray(A, dtype=np.float64)\n",
        "    _, _, Vt = np.linalg.svd(A)\n",
        "    H = Vt[-1].reshape(3,3)\n",
        "    return H / H[2,2]\n",
        "\n",
        "def pose_from_homography_explicit(K, model2d, image2d):\n",
        "    \"\"\"\n",
        "    Explicit H->(R,t):\n",
        "    1) H via DLT\n",
        "    2) Remove K: B = K^{-1} H\n",
        "    3) Scale so ||b1||≈||b2||=1\n",
        "    4) r1=b1*s, r2=b2*s, r3=r1×r2\n",
        "    5) Orthonormalize with SVD, enforce det(R)=+1\n",
        "    \"\"\"\n",
        "    H = dlt_homography(model2d, image2d)\n",
        "    Kinv = np.linalg.inv(K)\n",
        "    B = Kinv @ H\n",
        "    b1, b2, b3 = B[:,0], B[:,1], B[:,2]\n",
        "\n",
        "    s = 1.0 / ((np.linalg.norm(b1) + np.linalg.norm(b2)) / 2.0 + 1e-12)\n",
        "    r1 = b1 * s\n",
        "    r2 = b2 * s\n",
        "    t  = b3 * s\n",
        "\n",
        "    R_approx = np.column_stack([r1, r2, np.cross(r1, r2)])\n",
        "    U, _, Vt = np.linalg.svd(R_approx)\n",
        "    R = U @ Vt\n",
        "    if np.linalg.det(R) < 0:\n",
        "        U[:,-1] *= -1\n",
        "        R = U @ Vt\n",
        "        t = -t  # keep consistent handedness\n",
        "\n",
        "    return R, t.reshape(3,1), H"
      ],
      "metadata": {
        "id": "tWilwsmEUhgn"
      },
      "execution_count": 6,
      "outputs": []
    },
    {
      "cell_type": "markdown",
      "source": [
        "Pose using OpenCV functions"
      ],
      "metadata": {
        "id": "MFByVTBlUpIh"
      }
    },
    {
      "cell_type": "code",
      "source": [
        "def pose_from_opencv_solvepnp(K, distCoeffs, model3d, image2d):\n",
        "    ok, rvec, tvec = cv.solvePnP(model3d, image2d, K, distCoeffs, flags=cv.SOLVEPNP_ITERATIVE)\n",
        "    if not ok:\n",
        "        raise RuntimeError(\"solvePnP failed\")\n",
        "    R, _ = cv.Rodrigues(rvec)\n",
        "\n",
        "    # Enforce det(R)=+1\n",
        "    if np.linalg.det(R) < 0:\n",
        "        U, _, Vt = np.linalg.svd(R)\n",
        "        R = U @ Vt\n",
        "        tvec = -tvec\n",
        "    return R, tvec"
      ],
      "metadata": {
        "id": "oASs1cF8UpeQ"
      },
      "execution_count": 8,
      "outputs": []
    }
  ]
}